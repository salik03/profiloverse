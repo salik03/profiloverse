{
 "cells": [
  {
   "cell_type": "code",
   "execution_count": 1,
   "metadata": {},
   "outputs": [],
   "source": [
    "import requests\n",
    "from bs4 import BeautifulSoup\n",
    "\n",
    "def scrape_jobs(search_term, location, pages=1):\n",
    "    base_url = \"https://in.indeed.com/jobs\"\n",
    "    jobs = []\n",
    "\n",
    "    for page in range(pages):\n",
    "        query_params = {\n",
    "            'q': search_term,\n",
    "            'l': location,\n",
    "            'start': page * 10  # Each page lists 10 items, modify as per the site's configuration\n",
    "        }\n",
    "        response = requests.get(base_url, params=query_params)\n",
    "        soup = BeautifulSoup(response.text, 'html.parser')\n",
    "\n",
    "        # You need to customize the following selectors based on the website's HTML structure\n",
    "        job_listings = soup.find_all('div', class_='jobsearch-SerpJobCard')\n",
    "        for job in job_listings:\n",
    "            job_title = job.find('h2', class_='title').text.strip()\n",
    "            company_name = job.find('span', class_='company').text.strip()\n",
    "            location = job.find('div', class_='location').text.strip() if job.find('div', class_='location') else 'N/A'\n",
    "            summary = job.find('div', class_='summary').text.strip()\n",
    "\n",
    "            jobs.append({\n",
    "                'Job Title': job_title,\n",
    "                'Company': company_name,\n",
    "                'Location': location,\n",
    "                'Summary': summary\n",
    "            })\n",
    "\n",
    "    return jobs\n",
    "\n",
    "# Example usage:\n",
    "search_term = 'internship'\n",
    "location = 'India'\n",
    "jobs = scrape_jobs(search_term, location, pages=2)  # Scrape first 2 pages\n",
    "for job in jobs:\n",
    "    print(job)\n"
   ]
  }
 ],
 "metadata": {
  "kernelspec": {
   "display_name": "Python 3",
   "language": "python",
   "name": "python3"
  },
  "language_info": {
   "codemirror_mode": {
    "name": "ipython",
    "version": 3
   },
   "file_extension": ".py",
   "mimetype": "text/x-python",
   "name": "python",
   "nbconvert_exporter": "python",
   "pygments_lexer": "ipython3",
   "version": "3.11.4"
  }
 },
 "nbformat": 4,
 "nbformat_minor": 2
}
